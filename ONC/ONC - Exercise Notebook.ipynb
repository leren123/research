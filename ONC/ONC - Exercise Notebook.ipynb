{
 "cells": [
  {
   "cell_type": "markdown",
   "metadata": {},
   "source": [
    "* By: Rino Hilman\n",
    "* Email: rinohilman@yahoo.com\n",
    "* Reference: Detection of False Investment Strategies using Unsupervised Learning Methods by Marcos Lopez de Prado and Michael J. Lewis \n",
    "\n"
   ]
  },
  {
   "cell_type": "markdown",
   "metadata": {},
   "source": [
    "\n",
    "# Optimal Number of Clusters (ONC)\n",
    "\n",
    "* Warning : written for python 3\n",
    "\n",
    "\n",
    "## Introduction\n",
    "\n",
    "Optimal Number of Clusters algorithm has a purpose to detect optimal number of K-Means clusters using feature correlation matrix and silhouette scores.\n",
    "This implementation is based on 'Detection of False Investment Strategies using Unsupervised Learning Methods' https://papers.ssrn.com/sol3/papers.cfm?abstract_id=3167017\n",
    "\n",
    "The result of this algorithm is a tupple that contains:\n",
    "\n",
    "    Correlation Matrix\n",
    "    Optimized Clusters\n",
    "    Silhouette Scores\n",
    "\n",
    "Correlation Matrix show the matrix that are sorted by their relevance. Optimized Clustres show the optimal number of clustres and each of the culsters' contents.\n"
   ]
  },
  {
   "cell_type": "markdown",
   "metadata": {},
   "source": [
    "## Purpose\n",
    "\n",
    "This notebook shows the modified K-Means clustering or known as ONC algorithm preceded by a random correlation matrix generator and the original K-means clustering process. The notebook shows the uniqueness of ONC in comparison to the original K-means clustering algorithm."
   ]
  },
  {
   "cell_type": "markdown",
   "metadata": {},
   "source": [
    "## Exercises"
   ]
  },
  {
   "cell_type": "markdown",
   "metadata": {},
   "source": [
    "The exercises contain the working codes that represent the ONC algorithm ,the random correlation matrix generator, and the original K-means clustering steps. All codes can be executed and will work accordingly. The first step is to import all of the necessary packages."
   ]
  },
  {
   "cell_type": "code",
   "execution_count": 469,
   "metadata": {},
   "outputs": [],
   "source": [
    "import numpy as np\n",
    "import pandas as pd \n",
    "from scipy.linalg import block_diag \n",
    "from sklearn.utils import check_random_state "
   ]
  },
  {
   "cell_type": "markdown",
   "metadata": {},
   "source": [
    "## Random Correlation Block - Matrices Algorithm"
   ]
  },
  {
   "cell_type": "markdown",
   "metadata": {},
   "source": [
    "A function getCovSub has a purpose to find the Sub Covariance Matrix"
   ]
  },
  {
   "cell_type": "code",
   "execution_count": 470,
   "metadata": {},
   "outputs": [],
   "source": [
    "def getCovSub(nObs,nCols,sigma,random_state=None): \n",
    "    # Sub covariance matrix \n",
    "    rng = check_random_state(random_state) \n",
    "    if nCols==1:return np.ones((1,1)) \n",
    "    ar0=rng.normal(size=(nObs,1))     \n",
    "    ar0=np.repeat(ar0,nCols,axis=1)     \n",
    "    ar0+=rng.normal(scale=sigma,size=ar0.shape)     \n",
    "    ar0=np.cov(ar0,rowvar=False)     \n",
    "    return ar0"
   ]
  },
  {
   "cell_type": "markdown",
   "metadata": {},
   "source": [
    "The function getRndBlockCov generates a random covariance matrix with a given number of blocks"
   ]
  },
  {
   "cell_type": "code",
   "execution_count": 471,
   "metadata": {},
   "outputs": [],
   "source": [
    "def getRndBlockCov(nCols,nBlocks,minBlockSize=1,sigma=1.,random_state=None):\n",
    "    # Generate a random covariance matrix with a given number of blocks     \n",
    "    rng = check_random_state(random_state)     \n",
    "    parts=rng.choice(range(1,nCols-(minBlockSize-1)*nBlocks),nBlocks-1,replace=False)     \n",
    "    parts.sort()     \n",
    "    parts=np.append(parts,nCols-(minBlockSize-1)*nBlocks)     \n",
    "    parts=np.append(parts[0],np.diff( parts )) - 1 + minBlockSize     \n",
    "    cov=None     \n",
    "    for nCols_ in parts:         \n",
    "        cov_=getCovSub(int(max(nCols_*(nCols_+1)/2.,100)),nCols_,sigma,random_state=rng)         \n",
    "        if cov is None:cov=cov_.copy()         \n",
    "        else:cov=block_diag(cov,cov_)     \n",
    "    return cov "
   ]
  },
  {
   "cell_type": "markdown",
   "metadata": {},
   "source": [
    "The function cov2corr transforms covariance into correlation matrix"
   ]
  },
  {
   "cell_type": "code",
   "execution_count": 472,
   "metadata": {},
   "outputs": [],
   "source": [
    "def cov2corr(cov):     \n",
    "    # Derive the correlation matrix from a covariance matrix     \n",
    "    std=np.sqrt(np.diag(cov))     \n",
    "    corr=cov/np.outer(std,std)     \n",
    "    corr[corr<-1],corr[corr>1]=-1,1 # numerical error     \n",
    "    return corr "
   ]
  },
  {
   "cell_type": "markdown",
   "metadata": {},
   "source": [
    "The function randomBlockCorr forms the random block correlation "
   ]
  },
  {
   "cell_type": "code",
   "execution_count": 473,
   "metadata": {},
   "outputs": [],
   "source": [
    "def randomBlockCorr(nCols,nBlocks,random_state=None,minBlockSize=1):     \n",
    "    # Form block correlation    \n",
    "    rng = check_random_state(random_state)     \n",
    "    cov0=getRndBlockCov(nCols,nBlocks,minBlockSize=minBlockSize,\\\n",
    "                        sigma=.5,random_state=rng) # perfect block corr     \n",
    "    cov1=getRndBlockCov(nCols,1,minBlockSize=minBlockSize,\\\n",
    "                        sigma=1.,random_state=rng) # add noise     \n",
    "    cov0+=cov1     \n",
    "    corr0=cov2corr(cov0)     \n",
    "    corr0=pd.DataFrame(corr0)     \n",
    "    return corr0"
   ]
  },
  {
   "cell_type": "markdown",
   "metadata": {},
   "source": [
    "## Execution of the Random Correlation Block - Matrices Algorithm"
   ]
  },
  {
   "cell_type": "markdown",
   "metadata": {},
   "source": [
    "Set predetermined variables for the algorithm. These values are generated randomly according to necessities."
   ]
  },
  {
   "cell_type": "code",
   "execution_count": 474,
   "metadata": {},
   "outputs": [],
   "source": [
    "import random\n",
    "nBlocks1 = random.randint(1,10)\n",
    "nCols1= random.randint(nBlocks1,10)"
   ]
  },
  {
   "cell_type": "markdown",
   "metadata": {},
   "source": [
    "Execute the randomBlockCorr function to create a random correlation matrix."
   ]
  },
  {
   "cell_type": "code",
   "execution_count": 475,
   "metadata": {},
   "outputs": [],
   "source": [
    "#randomBlockCorr(nCols,nBlocks,random_state=None,minBlockSize=1)\n",
    "corr0A=randomBlockCorr(nCols1,nBlocks1,random_state=None,minBlockSize=1)"
   ]
  },
  {
   "cell_type": "markdown",
   "metadata": {},
   "source": [
    "The random correlation matrix is available below:"
   ]
  },
  {
   "cell_type": "code",
   "execution_count": 476,
   "metadata": {},
   "outputs": [
    {
     "data": {
      "text/html": [
       "<div>\n",
       "<style scoped>\n",
       "    .dataframe tbody tr th:only-of-type {\n",
       "        vertical-align: middle;\n",
       "    }\n",
       "\n",
       "    .dataframe tbody tr th {\n",
       "        vertical-align: top;\n",
       "    }\n",
       "\n",
       "    .dataframe thead th {\n",
       "        text-align: right;\n",
       "    }\n",
       "</style>\n",
       "<table border=\"1\" class=\"dataframe\">\n",
       "  <thead>\n",
       "    <tr style=\"text-align: right;\">\n",
       "      <th></th>\n",
       "      <th>0</th>\n",
       "      <th>1</th>\n",
       "      <th>2</th>\n",
       "      <th>3</th>\n",
       "      <th>4</th>\n",
       "      <th>5</th>\n",
       "      <th>6</th>\n",
       "      <th>7</th>\n",
       "      <th>8</th>\n",
       "    </tr>\n",
       "  </thead>\n",
       "  <tbody>\n",
       "    <tr>\n",
       "      <th>0</th>\n",
       "      <td>1.000000</td>\n",
       "      <td>0.238406</td>\n",
       "      <td>0.260600</td>\n",
       "      <td>0.292942</td>\n",
       "      <td>0.284208</td>\n",
       "      <td>0.285883</td>\n",
       "      <td>0.317745</td>\n",
       "      <td>0.282019</td>\n",
       "      <td>0.265038</td>\n",
       "    </tr>\n",
       "    <tr>\n",
       "      <th>1</th>\n",
       "      <td>0.238406</td>\n",
       "      <td>1.000000</td>\n",
       "      <td>0.348245</td>\n",
       "      <td>0.349079</td>\n",
       "      <td>0.284037</td>\n",
       "      <td>0.333729</td>\n",
       "      <td>0.263823</td>\n",
       "      <td>0.302180</td>\n",
       "      <td>0.235372</td>\n",
       "    </tr>\n",
       "    <tr>\n",
       "      <th>2</th>\n",
       "      <td>0.260600</td>\n",
       "      <td>0.348245</td>\n",
       "      <td>1.000000</td>\n",
       "      <td>0.367391</td>\n",
       "      <td>0.236412</td>\n",
       "      <td>0.285744</td>\n",
       "      <td>0.308991</td>\n",
       "      <td>0.342733</td>\n",
       "      <td>0.212146</td>\n",
       "    </tr>\n",
       "    <tr>\n",
       "      <th>3</th>\n",
       "      <td>0.292942</td>\n",
       "      <td>0.349079</td>\n",
       "      <td>0.367391</td>\n",
       "      <td>1.000000</td>\n",
       "      <td>0.361297</td>\n",
       "      <td>0.272781</td>\n",
       "      <td>0.290896</td>\n",
       "      <td>0.279618</td>\n",
       "      <td>0.263238</td>\n",
       "    </tr>\n",
       "    <tr>\n",
       "      <th>4</th>\n",
       "      <td>0.284208</td>\n",
       "      <td>0.284037</td>\n",
       "      <td>0.236412</td>\n",
       "      <td>0.361297</td>\n",
       "      <td>1.000000</td>\n",
       "      <td>0.529773</td>\n",
       "      <td>0.262393</td>\n",
       "      <td>0.313142</td>\n",
       "      <td>0.219888</td>\n",
       "    </tr>\n",
       "    <tr>\n",
       "      <th>5</th>\n",
       "      <td>0.285883</td>\n",
       "      <td>0.333729</td>\n",
       "      <td>0.285744</td>\n",
       "      <td>0.272781</td>\n",
       "      <td>0.529773</td>\n",
       "      <td>1.000000</td>\n",
       "      <td>0.279904</td>\n",
       "      <td>0.207030</td>\n",
       "      <td>0.235409</td>\n",
       "    </tr>\n",
       "    <tr>\n",
       "      <th>6</th>\n",
       "      <td>0.317745</td>\n",
       "      <td>0.263823</td>\n",
       "      <td>0.308991</td>\n",
       "      <td>0.290896</td>\n",
       "      <td>0.262393</td>\n",
       "      <td>0.279904</td>\n",
       "      <td>1.000000</td>\n",
       "      <td>0.324437</td>\n",
       "      <td>0.273005</td>\n",
       "    </tr>\n",
       "    <tr>\n",
       "      <th>7</th>\n",
       "      <td>0.282019</td>\n",
       "      <td>0.302180</td>\n",
       "      <td>0.342733</td>\n",
       "      <td>0.279618</td>\n",
       "      <td>0.313142</td>\n",
       "      <td>0.207030</td>\n",
       "      <td>0.324437</td>\n",
       "      <td>1.000000</td>\n",
       "      <td>0.244495</td>\n",
       "    </tr>\n",
       "    <tr>\n",
       "      <th>8</th>\n",
       "      <td>0.265038</td>\n",
       "      <td>0.235372</td>\n",
       "      <td>0.212146</td>\n",
       "      <td>0.263238</td>\n",
       "      <td>0.219888</td>\n",
       "      <td>0.235409</td>\n",
       "      <td>0.273005</td>\n",
       "      <td>0.244495</td>\n",
       "      <td>1.000000</td>\n",
       "    </tr>\n",
       "  </tbody>\n",
       "</table>\n",
       "</div>"
      ],
      "text/plain": [
       "          0         1         2         3         4         5         6  \\\n",
       "0  1.000000  0.238406  0.260600  0.292942  0.284208  0.285883  0.317745   \n",
       "1  0.238406  1.000000  0.348245  0.349079  0.284037  0.333729  0.263823   \n",
       "2  0.260600  0.348245  1.000000  0.367391  0.236412  0.285744  0.308991   \n",
       "3  0.292942  0.349079  0.367391  1.000000  0.361297  0.272781  0.290896   \n",
       "4  0.284208  0.284037  0.236412  0.361297  1.000000  0.529773  0.262393   \n",
       "5  0.285883  0.333729  0.285744  0.272781  0.529773  1.000000  0.279904   \n",
       "6  0.317745  0.263823  0.308991  0.290896  0.262393  0.279904  1.000000   \n",
       "7  0.282019  0.302180  0.342733  0.279618  0.313142  0.207030  0.324437   \n",
       "8  0.265038  0.235372  0.212146  0.263238  0.219888  0.235409  0.273005   \n",
       "\n",
       "          7         8  \n",
       "0  0.282019  0.265038  \n",
       "1  0.302180  0.235372  \n",
       "2  0.342733  0.212146  \n",
       "3  0.279618  0.263238  \n",
       "4  0.313142  0.219888  \n",
       "5  0.207030  0.235409  \n",
       "6  0.324437  0.273005  \n",
       "7  1.000000  0.244495  \n",
       "8  0.244495  1.000000  "
      ]
     },
     "execution_count": 476,
     "metadata": {},
     "output_type": "execute_result"
    }
   ],
   "source": [
    "corr0A"
   ]
  },
  {
   "cell_type": "markdown",
   "metadata": {},
   "source": [
    "Create a heatmap of the correlation data."
   ]
  },
  {
   "cell_type": "code",
   "execution_count": 477,
   "metadata": {},
   "outputs": [
    {
     "data": {
      "text/plain": [
       "<matplotlib.axes._subplots.AxesSubplot at 0x2c5e8fe2dd8>"
      ]
     },
     "execution_count": 477,
     "metadata": {},
     "output_type": "execute_result"
    },
    {
     "data": {
      "image/png": "[encoded data removed]",
      "text/plain": [
       "<Figure size 432x288 with 2 Axes>"
      ]
     },
     "metadata": {},
     "output_type": "display_data"
    }
   ],
   "source": [
    "import seaborn as sns\n",
    "sns.heatmap(corr0A, square = True)"
   ]
  },
  {
   "cell_type": "markdown",
   "metadata": {},
   "source": [
    "## Execution of the ONC Clustering Algorithm"
   ]
  },
  {
   "cell_type": "markdown",
   "metadata": {},
   "source": [
    "Execute the ONC Clustering Algorithm that yields in: \n",
    "\n",
    "* Correlation Matrix\n",
    "* Optimized Clusters\n",
    "* Silhouette Scores"
   ]
  },
  {
   "cell_type": "code",
   "execution_count": 478,
   "metadata": {},
   "outputs": [],
   "source": [
    "from mlfinlab.clustering.onc import get_onc_clusters # import the ONC function"
   ]
  },
  {
   "cell_type": "code",
   "execution_count": 479,
   "metadata": {},
   "outputs": [],
   "source": [
    "data2 = get_onc_clusters(corr0A,10)"
   ]
  },
  {
   "cell_type": "code",
   "execution_count": 480,
   "metadata": {},
   "outputs": [
    {
     "data": {
      "text/plain": [
       "(          0         4         5         8         1         2         3  \\\n",
       " 0  1.000000  0.284208  0.285883  0.265038  0.238406  0.260600  0.292942   \n",
       " 4  0.284208  1.000000  0.529773  0.219888  0.284037  0.236412  0.361297   \n",
       " 5  0.285883  0.529773  1.000000  0.235409  0.333729  0.285744  0.272781   \n",
       " 8  0.265038  0.219888  0.235409  1.000000  0.235372  0.212146  0.263238   \n",
       " 1  0.238406  0.284037  0.333729  0.235372  1.000000  0.348245  0.349079   \n",
       " 2  0.260600  0.236412  0.285744  0.212146  0.348245  1.000000  0.367391   \n",
       " 3  0.292942  0.361297  0.272781  0.263238  0.349079  0.367391  1.000000   \n",
       " 6  0.317745  0.262393  0.279904  0.273005  0.263823  0.308991  0.290896   \n",
       " 7  0.282019  0.313142  0.207030  0.244495  0.302180  0.342733  0.279618   \n",
       " \n",
       "           6         7  \n",
       " 0  0.317745  0.282019  \n",
       " 4  0.262393  0.313142  \n",
       " 5  0.279904  0.207030  \n",
       " 8  0.273005  0.244495  \n",
       " 1  0.263823  0.302180  \n",
       " 2  0.308991  0.342733  \n",
       " 3  0.290896  0.279618  \n",
       " 6  1.000000  0.324437  \n",
       " 7  0.324437  1.000000  , {0: [0, 4, 5, 8], 1: [1, 2, 3, 6, 7]}, 0   -0.005356\n",
       " 1    0.034257\n",
       " 2    0.069040\n",
       " 3    0.022586\n",
       " 4    0.045195\n",
       " 5    0.057808\n",
       " 6    0.014112\n",
       " 7    0.039783\n",
       " 8   -0.008853\n",
       " dtype: float64)"
      ]
     },
     "execution_count": 480,
     "metadata": {},
     "output_type": "execute_result"
    }
   ],
   "source": [
    "data2"
   ]
  },
  {
   "cell_type": "markdown",
   "metadata": {},
   "source": [
    "The new dataframe that was clustered by the algorithm is structured based on the clustering of the correlation numbers."
   ]
  },
  {
   "cell_type": "code",
   "execution_count": 481,
   "metadata": {},
   "outputs": [
    {
     "data": {
      "text/html": [
       "<div>\n",
       "<style scoped>\n",
       "    .dataframe tbody tr th:only-of-type {\n",
       "        vertical-align: middle;\n",
       "    }\n",
       "\n",
       "    .dataframe tbody tr th {\n",
       "        vertical-align: top;\n",
       "    }\n",
       "\n",
       "    .dataframe thead th {\n",
       "        text-align: right;\n",
       "    }\n",
       "</style>\n",
       "<table border=\"1\" class=\"dataframe\">\n",
       "  <thead>\n",
       "    <tr style=\"text-align: right;\">\n",
       "      <th></th>\n",
       "      <th>0</th>\n",
       "      <th>4</th>\n",
       "      <th>5</th>\n",
       "      <th>8</th>\n",
       "      <th>1</th>\n",
       "      <th>2</th>\n",
       "      <th>3</th>\n",
       "      <th>6</th>\n",
       "      <th>7</th>\n",
       "    </tr>\n",
       "  </thead>\n",
       "  <tbody>\n",
       "    <tr>\n",
       "      <th>0</th>\n",
       "      <td>1.000000</td>\n",
       "      <td>0.284208</td>\n",
       "      <td>0.285883</td>\n",
       "      <td>0.265038</td>\n",
       "      <td>0.238406</td>\n",
       "      <td>0.260600</td>\n",
       "      <td>0.292942</td>\n",
       "      <td>0.317745</td>\n",
       "      <td>0.282019</td>\n",
       "    </tr>\n",
       "    <tr>\n",
       "      <th>4</th>\n",
       "      <td>0.284208</td>\n",
       "      <td>1.000000</td>\n",
       "      <td>0.529773</td>\n",
       "      <td>0.219888</td>\n",
       "      <td>0.284037</td>\n",
       "      <td>0.236412</td>\n",
       "      <td>0.361297</td>\n",
       "      <td>0.262393</td>\n",
       "      <td>0.313142</td>\n",
       "    </tr>\n",
       "    <tr>\n",
       "      <th>5</th>\n",
       "      <td>0.285883</td>\n",
       "      <td>0.529773</td>\n",
       "      <td>1.000000</td>\n",
       "      <td>0.235409</td>\n",
       "      <td>0.333729</td>\n",
       "      <td>0.285744</td>\n",
       "      <td>0.272781</td>\n",
       "      <td>0.279904</td>\n",
       "      <td>0.207030</td>\n",
       "    </tr>\n",
       "    <tr>\n",
       "      <th>8</th>\n",
       "      <td>0.265038</td>\n",
       "      <td>0.219888</td>\n",
       "      <td>0.235409</td>\n",
       "      <td>1.000000</td>\n",
       "      <td>0.235372</td>\n",
       "      <td>0.212146</td>\n",
       "      <td>0.263238</td>\n",
       "      <td>0.273005</td>\n",
       "      <td>0.244495</td>\n",
       "    </tr>\n",
       "    <tr>\n",
       "      <th>1</th>\n",
       "      <td>0.238406</td>\n",
       "      <td>0.284037</td>\n",
       "      <td>0.333729</td>\n",
       "      <td>0.235372</td>\n",
       "      <td>1.000000</td>\n",
       "      <td>0.348245</td>\n",
       "      <td>0.349079</td>\n",
       "      <td>0.263823</td>\n",
       "      <td>0.302180</td>\n",
       "    </tr>\n",
       "    <tr>\n",
       "      <th>2</th>\n",
       "      <td>0.260600</td>\n",
       "      <td>0.236412</td>\n",
       "      <td>0.285744</td>\n",
       "      <td>0.212146</td>\n",
       "      <td>0.348245</td>\n",
       "      <td>1.000000</td>\n",
       "      <td>0.367391</td>\n",
       "      <td>0.308991</td>\n",
       "      <td>0.342733</td>\n",
       "    </tr>\n",
       "    <tr>\n",
       "      <th>3</th>\n",
       "      <td>0.292942</td>\n",
       "      <td>0.361297</td>\n",
       "      <td>0.272781</td>\n",
       "      <td>0.263238</td>\n",
       "      <td>0.349079</td>\n",
       "      <td>0.367391</td>\n",
       "      <td>1.000000</td>\n",
       "      <td>0.290896</td>\n",
       "      <td>0.279618</td>\n",
       "    </tr>\n",
       "    <tr>\n",
       "      <th>6</th>\n",
       "      <td>0.317745</td>\n",
       "      <td>0.262393</td>\n",
       "      <td>0.279904</td>\n",
       "      <td>0.273005</td>\n",
       "      <td>0.263823</td>\n",
       "      <td>0.308991</td>\n",
       "      <td>0.290896</td>\n",
       "      <td>1.000000</td>\n",
       "      <td>0.324437</td>\n",
       "    </tr>\n",
       "    <tr>\n",
       "      <th>7</th>\n",
       "      <td>0.282019</td>\n",
       "      <td>0.313142</td>\n",
       "      <td>0.207030</td>\n",
       "      <td>0.244495</td>\n",
       "      <td>0.302180</td>\n",
       "      <td>0.342733</td>\n",
       "      <td>0.279618</td>\n",
       "      <td>0.324437</td>\n",
       "      <td>1.000000</td>\n",
       "    </tr>\n",
       "  </tbody>\n",
       "</table>\n",
       "</div>"
      ],
      "text/plain": [
       "          0         4         5         8         1         2         3  \\\n",
       "0  1.000000  0.284208  0.285883  0.265038  0.238406  0.260600  0.292942   \n",
       "4  0.284208  1.000000  0.529773  0.219888  0.284037  0.236412  0.361297   \n",
       "5  0.285883  0.529773  1.000000  0.235409  0.333729  0.285744  0.272781   \n",
       "8  0.265038  0.219888  0.235409  1.000000  0.235372  0.212146  0.263238   \n",
       "1  0.238406  0.284037  0.333729  0.235372  1.000000  0.348245  0.349079   \n",
       "2  0.260600  0.236412  0.285744  0.212146  0.348245  1.000000  0.367391   \n",
       "3  0.292942  0.361297  0.272781  0.263238  0.349079  0.367391  1.000000   \n",
       "6  0.317745  0.262393  0.279904  0.273005  0.263823  0.308991  0.290896   \n",
       "7  0.282019  0.313142  0.207030  0.244495  0.302180  0.342733  0.279618   \n",
       "\n",
       "          6         7  \n",
       "0  0.317745  0.282019  \n",
       "4  0.262393  0.313142  \n",
       "5  0.279904  0.207030  \n",
       "8  0.273005  0.244495  \n",
       "1  0.263823  0.302180  \n",
       "2  0.308991  0.342733  \n",
       "3  0.290896  0.279618  \n",
       "6  1.000000  0.324437  \n",
       "7  0.324437  1.000000  "
      ]
     },
     "execution_count": 481,
     "metadata": {},
     "output_type": "execute_result"
    }
   ],
   "source": [
    "datatest= data2[0]\n",
    "datatest"
   ]
  },
  {
   "cell_type": "markdown",
   "metadata": {},
   "source": [
    "The new matrix heatmap is plotted. "
   ]
  },
  {
   "cell_type": "code",
   "execution_count": 482,
   "metadata": {},
   "outputs": [
    {
     "data": {
      "text/plain": [
       "<matplotlib.axes._subplots.AxesSubplot at 0x2c5e7649470>"
      ]
     },
     "execution_count": 482,
     "metadata": {},
     "output_type": "execute_result"
    },
    {
     "data": {
      "image/png": "[encoded data removed]",
      "text/plain": [
       "<Figure size 432x288 with 2 Axes>"
      ]
     },
     "metadata": {},
     "output_type": "display_data"
    }
   ],
   "source": [
    "import seaborn as sns\n",
    "sns.heatmap(datatest, square = True)"
   ]
  },
  {
   "cell_type": "markdown",
   "metadata": {},
   "source": [
    "Scatter plot for matrix."
   ]
  },
  {
   "cell_type": "code",
   "execution_count": 483,
   "metadata": {},
   "outputs": [
    {
     "data": {
      "image/png": "[encoded data removed]",
      "text/plain": [
       "<Figure size 1152x1152 with 81 Axes>"
      ]
     },
     "metadata": {},
     "output_type": "display_data"
    }
   ],
   "source": [
    "pd.plotting.scatter_matrix(datatest, figsize=(16, 16))\n",
    "plt.show()"
   ]
  },
  {
   "cell_type": "markdown",
   "metadata": {},
   "source": [
    "## Clustering through K-means clustering"
   ]
  },
  {
   "cell_type": "markdown",
   "metadata": {},
   "source": [
    "Determine the number of k. In this case we choose elbow method to determine k."
   ]
  },
  {
   "cell_type": "code",
   "execution_count": 486,
   "metadata": {},
   "outputs": [
    {
     "data": {
      "image/png": "[encoded data removed]",
      "text/plain": [
       "<Figure size 432x288 with 1 Axes>"
      ]
     },
     "metadata": {},
     "output_type": "display_data"
    }
   ],
   "source": [
    "Inertia =[]\n",
    "for i in range(1, 10):\n",
    "    kmeans = KMeans(n_clusters = i).fit(corr0A)\n",
    "    kmeans.fit(corr0A)\n",
    "    Inertia.append(kmeans.inertia_)\n",
    "    \n",
    "import matplotlib.pyplot as plt\n",
    "plt.plot(range(1, 10), Inertia, 'rx-')\n",
    "plt.title('Elbow method')\n",
    "plt.xlabel('No of clusters')\n",
    "plt.ylabel('Inertia')\n",
    "plt.show()"
   ]
  },
  {
   "cell_type": "markdown",
   "metadata": {},
   "source": [
    "We eyeball the graph to find k. In this case, 3, as the k, is the point after which the distortion/inertia starts to decrease in a linear fashion. Use the k as the number of clusters for K-means clustering."
   ]
  },
  {
   "cell_type": "code",
   "execution_count": 487,
   "metadata": {},
   "outputs": [
    {
     "data": {
      "text/plain": [
       "array([0, 2, 2, 2, 1, 1, 0, 2, 0])"
      ]
     },
     "execution_count": 487,
     "metadata": {},
     "output_type": "execute_result"
    }
   ],
   "source": [
    "Kmean = KMeans(n_clusters=3)\n",
    "listest = Kmean.fit_predict(corr0A)\n",
    "listest"
   ]
  },
  {
   "cell_type": "markdown",
   "metadata": {},
   "source": [
    "The clustering of the matrix correlation numbers result in unique numbers that represent the clustering groups for each of the index positioning values. Each cluster is labeled by the k unique numbers which consists of the index numbers that is labeled by these unique cluster label numbers."
   ]
  },
  {
   "cell_type": "code",
   "execution_count": 492,
   "metadata": {},
   "outputs": [
    {
     "data": {
      "text/plain": [
       "[0, 6, 8, 4, 5, 1, 2, 3, 7]"
      ]
     },
     "execution_count": 492,
     "metadata": {},
     "output_type": "execute_result"
    }
   ],
   "source": [
    "j = [x for _, x in sorted(zip(listest,corr0A.index))] \n",
    "j"
   ]
  },
  {
   "cell_type": "markdown",
   "metadata": {},
   "source": [
    "New matrix based on clustering is formed below."
   ]
  },
  {
   "cell_type": "code",
   "execution_count": 489,
   "metadata": {},
   "outputs": [
    {
     "data": {
      "text/html": [
       "<div>\n",
       "<style scoped>\n",
       "    .dataframe tbody tr th:only-of-type {\n",
       "        vertical-align: middle;\n",
       "    }\n",
       "\n",
       "    .dataframe tbody tr th {\n",
       "        vertical-align: top;\n",
       "    }\n",
       "\n",
       "    .dataframe thead th {\n",
       "        text-align: right;\n",
       "    }\n",
       "</style>\n",
       "<table border=\"1\" class=\"dataframe\">\n",
       "  <thead>\n",
       "    <tr style=\"text-align: right;\">\n",
       "      <th></th>\n",
       "      <th>0</th>\n",
       "      <th>6</th>\n",
       "      <th>8</th>\n",
       "      <th>4</th>\n",
       "      <th>5</th>\n",
       "      <th>1</th>\n",
       "      <th>2</th>\n",
       "      <th>3</th>\n",
       "      <th>7</th>\n",
       "    </tr>\n",
       "  </thead>\n",
       "  <tbody>\n",
       "    <tr>\n",
       "      <th>0</th>\n",
       "      <td>1.000000</td>\n",
       "      <td>0.317745</td>\n",
       "      <td>0.265038</td>\n",
       "      <td>0.284208</td>\n",
       "      <td>0.285883</td>\n",
       "      <td>0.238406</td>\n",
       "      <td>0.260600</td>\n",
       "      <td>0.292942</td>\n",
       "      <td>0.282019</td>\n",
       "    </tr>\n",
       "    <tr>\n",
       "      <th>6</th>\n",
       "      <td>0.317745</td>\n",
       "      <td>1.000000</td>\n",
       "      <td>0.273005</td>\n",
       "      <td>0.262393</td>\n",
       "      <td>0.279904</td>\n",
       "      <td>0.263823</td>\n",
       "      <td>0.308991</td>\n",
       "      <td>0.290896</td>\n",
       "      <td>0.324437</td>\n",
       "    </tr>\n",
       "    <tr>\n",
       "      <th>8</th>\n",
       "      <td>0.265038</td>\n",
       "      <td>0.273005</td>\n",
       "      <td>1.000000</td>\n",
       "      <td>0.219888</td>\n",
       "      <td>0.235409</td>\n",
       "      <td>0.235372</td>\n",
       "      <td>0.212146</td>\n",
       "      <td>0.263238</td>\n",
       "      <td>0.244495</td>\n",
       "    </tr>\n",
       "    <tr>\n",
       "      <th>4</th>\n",
       "      <td>0.284208</td>\n",
       "      <td>0.262393</td>\n",
       "      <td>0.219888</td>\n",
       "      <td>1.000000</td>\n",
       "      <td>0.529773</td>\n",
       "      <td>0.284037</td>\n",
       "      <td>0.236412</td>\n",
       "      <td>0.361297</td>\n",
       "      <td>0.313142</td>\n",
       "    </tr>\n",
       "    <tr>\n",
       "      <th>5</th>\n",
       "      <td>0.285883</td>\n",
       "      <td>0.279904</td>\n",
       "      <td>0.235409</td>\n",
       "      <td>0.529773</td>\n",
       "      <td>1.000000</td>\n",
       "      <td>0.333729</td>\n",
       "      <td>0.285744</td>\n",
       "      <td>0.272781</td>\n",
       "      <td>0.207030</td>\n",
       "    </tr>\n",
       "    <tr>\n",
       "      <th>1</th>\n",
       "      <td>0.238406</td>\n",
       "      <td>0.263823</td>\n",
       "      <td>0.235372</td>\n",
       "      <td>0.284037</td>\n",
       "      <td>0.333729</td>\n",
       "      <td>1.000000</td>\n",
       "      <td>0.348245</td>\n",
       "      <td>0.349079</td>\n",
       "      <td>0.302180</td>\n",
       "    </tr>\n",
       "    <tr>\n",
       "      <th>2</th>\n",
       "      <td>0.260600</td>\n",
       "      <td>0.308991</td>\n",
       "      <td>0.212146</td>\n",
       "      <td>0.236412</td>\n",
       "      <td>0.285744</td>\n",
       "      <td>0.348245</td>\n",
       "      <td>1.000000</td>\n",
       "      <td>0.367391</td>\n",
       "      <td>0.342733</td>\n",
       "    </tr>\n",
       "    <tr>\n",
       "      <th>3</th>\n",
       "      <td>0.292942</td>\n",
       "      <td>0.290896</td>\n",
       "      <td>0.263238</td>\n",
       "      <td>0.361297</td>\n",
       "      <td>0.272781</td>\n",
       "      <td>0.349079</td>\n",
       "      <td>0.367391</td>\n",
       "      <td>1.000000</td>\n",
       "      <td>0.279618</td>\n",
       "    </tr>\n",
       "    <tr>\n",
       "      <th>7</th>\n",
       "      <td>0.282019</td>\n",
       "      <td>0.324437</td>\n",
       "      <td>0.244495</td>\n",
       "      <td>0.313142</td>\n",
       "      <td>0.207030</td>\n",
       "      <td>0.302180</td>\n",
       "      <td>0.342733</td>\n",
       "      <td>0.279618</td>\n",
       "      <td>1.000000</td>\n",
       "    </tr>\n",
       "  </tbody>\n",
       "</table>\n",
       "</div>"
      ],
      "text/plain": [
       "          0         6         8         4         5         1         2  \\\n",
       "0  1.000000  0.317745  0.265038  0.284208  0.285883  0.238406  0.260600   \n",
       "6  0.317745  1.000000  0.273005  0.262393  0.279904  0.263823  0.308991   \n",
       "8  0.265038  0.273005  1.000000  0.219888  0.235409  0.235372  0.212146   \n",
       "4  0.284208  0.262393  0.219888  1.000000  0.529773  0.284037  0.236412   \n",
       "5  0.285883  0.279904  0.235409  0.529773  1.000000  0.333729  0.285744   \n",
       "1  0.238406  0.263823  0.235372  0.284037  0.333729  1.000000  0.348245   \n",
       "2  0.260600  0.308991  0.212146  0.236412  0.285744  0.348245  1.000000   \n",
       "3  0.292942  0.290896  0.263238  0.361297  0.272781  0.349079  0.367391   \n",
       "7  0.282019  0.324437  0.244495  0.313142  0.207030  0.302180  0.342733   \n",
       "\n",
       "          3         7  \n",
       "0  0.292942  0.282019  \n",
       "6  0.290896  0.324437  \n",
       "8  0.263238  0.244495  \n",
       "4  0.361297  0.313142  \n",
       "5  0.272781  0.207030  \n",
       "1  0.349079  0.302180  \n",
       "2  0.367391  0.342733  \n",
       "3  1.000000  0.279618  \n",
       "7  0.279618  1.000000  "
      ]
     },
     "execution_count": 489,
     "metadata": {},
     "output_type": "execute_result"
    }
   ],
   "source": [
    "dfB = corr0A[j]\n",
    "dfC = dfB.reindex(j)\n",
    "dfC"
   ]
  },
  {
   "cell_type": "markdown",
   "metadata": {},
   "source": [
    "Correlation heatmap is drawn."
   ]
  },
  {
   "cell_type": "code",
   "execution_count": 490,
   "metadata": {},
   "outputs": [
    {
     "data": {
      "text/plain": [
       "<matplotlib.axes._subplots.AxesSubplot at 0x2c5e4b7a4e0>"
      ]
     },
     "execution_count": 490,
     "metadata": {},
     "output_type": "execute_result"
    },
    {
     "data": {
      "image/png": "[encoded data removed]",
      "text/plain": [
       "<Figure size 432x288 with 2 Axes>"
      ]
     },
     "metadata": {},
     "output_type": "display_data"
    }
   ],
   "source": [
    "import seaborn as sns\n",
    "sns.heatmap(dfC, square = True)"
   ]
  },
  {
   "cell_type": "markdown",
   "metadata": {},
   "source": [
    "Scatter plot for matrix."
   ]
  },
  {
   "cell_type": "code",
   "execution_count": 491,
   "metadata": {},
   "outputs": [
    {
     "data": {
      "image/png": "[encoded data removed]",
      "text/plain": [
       "<Figure size 1152x1152 with 81 Axes>"
      ]
     },
     "metadata": {},
     "output_type": "display_data"
    }
   ],
   "source": [
    "pd.plotting.scatter_matrix(dfC, figsize=(16, 16))\n",
    "plt.show()"
   ]
  },
  {
   "cell_type": "markdown",
   "metadata": {},
   "source": [
    "## Conclusion"
   ]
  },
  {
   "cell_type": "markdown",
   "metadata": {},
   "source": [
    "The ONC algorithm will result in the optimum clustering of its input correlation values. The k value is calculated automatically with this algorithm. Silhouette scores are also provided by this algorithm for each of the correlation numbers. The scores should give a better positioning of relationships among the correlations with their clusters."
   ]
  },
  {
   "cell_type": "code",
   "execution_count": null,
   "metadata": {},
   "outputs": [],
   "source": []
  }
 ],
 "metadata": {
  "kernelspec": {
   "display_name": "Python 3",
   "language": "python",
   "name": "python3"
  },
  "language_info": {
   "codemirror_mode": {
    "name": "ipython",
    "version": 3
   },
   "file_extension": ".py",
   "mimetype": "text/x-python",
   "name": "python",
   "nbconvert_exporter": "python",
   "pygments_lexer": "ipython3",
   "version": "3.6.5"
  }
 },
 "nbformat": 4,
 "nbformat_minor": 2
}
